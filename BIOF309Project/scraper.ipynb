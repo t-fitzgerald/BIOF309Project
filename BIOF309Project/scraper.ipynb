{
 "cells": [
  {
   "cell_type": "code",
   "execution_count": 4,
   "metadata": {},
   "outputs": [],
   "source": [
    "import praw\n",
    "import pandas as pd\n",
    "\n",
    "\n",
    "def updatePosts():\n",
    "    # establishes api access\n",
    "    # source: https://towardsdatascience.com/scraping-reddit-data-1c0af3040768\n",
    "    # follow steps in source link to create your own 'client_id, client_secret, and user_agent, to replace the secret placeholder\n",
    "    reddit = praw.Reddit(client_id='secret',\n",
    "                         client_secret='secret',\n",
    "                         user_agent='secret')\n",
    "\n",
    "    rsci_subreddit = reddit.subreddit('science')\n",
    "\n",
    "    # iterates through top 10000 posts (measured by number of upvotes) from the subreddit from all time, gathering various data points\n",
    "    rsci_posts = []\n",
    "    for post in rsci_subreddit.top(limit=10000):\n",
    "        rsci_posts.append([post.title, post.created_utc, post.score, post.upvote_ratio, post.id, post.link_flair_text,\n",
    "                           post.num_comments])\n",
    "\n",
    "    rsci_posts = pd.DataFrame(rsci_posts, columns=['title', 'post time', 'score', 'upvote ratio', 'id', 'flair', 'number of comments'])\n",
    "\n",
    "    rsci_posts.to_csv('top1krsciposts.csv')"
   ]
  },
  {
   "cell_type": "code",
   "execution_count": 2,
   "metadata": {},
   "outputs": [
    {
     "name": "stdout",
     "output_type": "stream",
     "text": [
      "Collecting package metadata (current_repodata.json): ...working... done\n",
      "Solving environment: ...working... failed with initial frozen solve. Retrying with flexible solve.\n",
      "Collecting package metadata (repodata.json): ...working... done\n",
      "Solving environment: ...working... failed with initial frozen solve. Retrying with flexible solve.\n",
      "\n",
      "Note: you may need to restart the kernel to use updated packages.\n"
     ]
    },
    {
     "name": "stderr",
     "output_type": "stream",
     "text": [
      "\n",
      "PackagesNotFoundError: The following packages are not available from current channels:\n",
      "\n",
      "  - praw\n",
      "\n",
      "Current channels:\n",
      "\n",
      "  - https://repo.anaconda.com/pkgs/main/win-64\n",
      "  - https://repo.anaconda.com/pkgs/main/noarch\n",
      "  - https://repo.anaconda.com/pkgs/r/win-64\n",
      "  - https://repo.anaconda.com/pkgs/r/noarch\n",
      "  - https://repo.anaconda.com/pkgs/msys2/win-64\n",
      "  - https://repo.anaconda.com/pkgs/msys2/noarch\n",
      "\n",
      "To search for alternate channels that may provide the conda package you're\n",
      "looking for, navigate to\n",
      "\n",
      "    https://anaconda.org\n",
      "\n",
      "and use the search bar at the top of the page.\n",
      "\n",
      "\n"
     ]
    }
   ],
   "source": [
    "conda install praw"
   ]
  },
  {
   "cell_type": "code",
   "execution_count": 3,
   "metadata": {},
   "outputs": [
    {
     "name": "stdout",
     "output_type": "stream",
     "text": [
      "Collecting praw\n",
      "  Using cached https://files.pythonhosted.org/packages/f6/df/b42c0a3b86a43a62a46e5b2f07930230ac7719624800a2052218993fb767/praw-6.4.0-py2.py3-none-any.whl\n",
      "Collecting prawcore<2.0,>=1.0.1 (from praw)\n",
      "  Using cached https://files.pythonhosted.org/packages/76/b5/ce6282dea45cba6f08a30e25d18e0f3d33277e2c9fcbda75644b8dc0089b/prawcore-1.0.1-py2.py3-none-any.whl\n",
      "Collecting websocket-client>=0.54.0 (from praw)\n",
      "  Using cached https://files.pythonhosted.org/packages/29/19/44753eab1fdb50770ac69605527e8859468f3c0fd7dc5a76dd9c4dbd7906/websocket_client-0.56.0-py2.py3-none-any.whl\n",
      "Collecting update-checker>=0.16 (from praw)\n",
      "  Using cached https://files.pythonhosted.org/packages/17/c9/ab11855af164d03be0ff4fddd4c46a5bd44799a9ecc1770e01a669c21168/update_checker-0.16-py2.py3-none-any.whl\n",
      "Requirement already satisfied: requests<3.0,>=2.6.0 in c:\\users\\timot\\anaconda3\\lib\\site-packages (from prawcore<2.0,>=1.0.1->praw) (2.22.0)\n",
      "Requirement already satisfied: six in c:\\users\\timot\\anaconda3\\lib\\site-packages (from websocket-client>=0.54.0->praw) (1.12.0)\n",
      "Requirement already satisfied: chardet<3.1.0,>=3.0.2 in c:\\users\\timot\\anaconda3\\lib\\site-packages (from requests<3.0,>=2.6.0->prawcore<2.0,>=1.0.1->praw) (3.0.4)\n",
      "Requirement already satisfied: idna<2.9,>=2.5 in c:\\users\\timot\\anaconda3\\lib\\site-packages (from requests<3.0,>=2.6.0->prawcore<2.0,>=1.0.1->praw) (2.8)\n",
      "Requirement already satisfied: urllib3!=1.25.0,!=1.25.1,<1.26,>=1.21.1 in c:\\users\\timot\\anaconda3\\lib\\site-packages (from requests<3.0,>=2.6.0->prawcore<2.0,>=1.0.1->praw) (1.24.2)\n",
      "Requirement already satisfied: certifi>=2017.4.17 in c:\\users\\timot\\anaconda3\\lib\\site-packages (from requests<3.0,>=2.6.0->prawcore<2.0,>=1.0.1->praw) (2019.6.16)\n",
      "Installing collected packages: prawcore, websocket-client, update-checker, praw\n",
      "Successfully installed praw-6.4.0 prawcore-1.0.1 update-checker-0.16 websocket-client-0.56.0\n",
      "Note: you may need to restart the kernel to use updated packages.\n"
     ]
    }
   ],
   "source": [
    "pip install praw"
   ]
  },
  {
   "cell_type": "code",
   "execution_count": null,
   "metadata": {},
   "outputs": [],
   "source": [
    "import praw\n",
    "import pandas as pd\n",
    "\n",
    "\n",
    "def updatePosts():\n",
    "    # establishes api access\n",
    "    reddit = praw.Reddit(client_id='KmmJfWjpkctzNQ',\n",
    "                         client_secret='ZEKHP3IrLDSJMeuzXa8YlvI0kFY',\n",
    "                         user_agent='RWS')\n",
    "\n",
    "    rsci_subreddit = reddit.subreddit('science')\n",
    "\n",
    "    # iterates through top 10000 posts (measured by number of upvotes) from the subreddit from all time, gathering various data points\n",
    "    rsci_posts = []\n",
    "    for post in rsci_subreddit.top(limit=10000):\n",
    "        rsci_posts.append([post.title, post.created_utc, post.score, post.upvote_ratio, post.id, post.link_flair_text,\n",
    "                           post.num_comments])\n",
    "\n",
    "    rsci_posts = pd.DataFrame(rsci_posts, columns=['title', 'post time', 'score', 'upvote ratio', 'id', 'flair', 'number of comments'])\n",
    "\n",
    "    rsci_posts.to_csv('top1krsciposts.csv')\n",
    "updatePosts()\n"
   ]
  },
  {
   "cell_type": "code",
   "execution_count": null,
   "metadata": {},
   "outputs": [],
   "source": []
  }
 ],
 "metadata": {
  "kernelspec": {
   "display_name": "Python 3",
   "language": "python",
   "name": "python3"
  },
  "language_info": {
   "codemirror_mode": {
    "name": "ipython",
    "version": 3
   },
   "file_extension": ".py",
   "mimetype": "text/x-python",
   "name": "python",
   "nbconvert_exporter": "python",
   "pygments_lexer": "ipython3",
   "version": "3.7.3"
  }
 },
 "nbformat": 4,
 "nbformat_minor": 2
}
